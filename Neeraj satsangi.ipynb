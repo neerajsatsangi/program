{
 "cells": [
  {
   "cell_type": "code",
   "execution_count": null,
   "metadata": {},
   "outputs": [],
   "source": [
    "##question-5\n",
    "import cv2 \n",
    "import matplotlib.pyplot as plt \n",
    "   \n",
    "img_bgr = cv2.imread('scenary.jpg', 1) \n",
    "plt.imshow(img_bgr) \n",
    "plt.show() \n",
    "   \n",
    "color = ('b', 'g', 'r') \n",
    "  \n",
    "for i, col in enumerate(color): \n",
    "      \n",
    "    histr = cv2.calcHist([img_bgr],  \n",
    "                         [i], None, \n",
    "                         [256],  \n",
    "                         [0, 256]) \n",
    "      \n",
    "    plt.plot(histr, color = col)  \n",
    "    plt.xlim([0, 256]) \n",
    "      \n",
    "plt.show() \n",
    "   \n",
    "height, width, _ = img_bgr.shape \n",
    "  \n",
    "for i in range(0, height - 1): \n",
    "    for j in range(0, width - 1): \n",
    "          \n",
    "        pixel = img_bgr[i, j] \n",
    "        pixel[0] = 255 - pixel[0] \n",
    "        pixel[1] = 255 - pixel[1] \n",
    "        pixel[2] = 255 - pixel[2]  \n",
    "        img_bgr[i, j] = pixel \n",
    "  \n",
    "plt.imshow(img_bgr) \n",
    "plt.show() \n",
    "color = ('b', 'g', 'r') \n",
    "  \n",
    "for i, col in enumerate(color): \n",
    "      \n",
    "    histr = cv2.calcHist([img_bgr],  \n",
    "                         [i], None, \n",
    "                         [256], \n",
    "                         [0, 256]) \n",
    "      \n",
    "    plt.plot(histr, color = col) \n",
    "    plt.xlim([0, 256]) \n",
    "      \n",
    "plt.show()"
   ]
  },
  {
   "cell_type": "code",
   "execution_count": null,
   "metadata": {},
   "outputs": [],
   "source": [
    "##Question-3\n",
    "import cv2\n",
    "  \n",
    "image = cv2.imread('C:/Users/N/Desktop/Test.jpg')\n",
    "gray = cv2.cvtColor(image, cv2.COLOR_BGR2GRAY)\n",
    "  \n",
    "cv2.imshow('Original image',image)\n",
    "cv2.imshow('Gray image', gray)\n",
    "  \n",
    "cv2.waitKey(0)\n",
    "cv2.destroyAllWindows()"
   ]
  },
  {
   "cell_type": "code",
   "execution_count": null,
   "metadata": {},
   "outputs": [],
   "source": [
    "##Question-4\n",
    "import cv2 \n",
    "har = cv2.CascadeClassifier('C:/Users/NEERAJ/Downloads/opencv-master/opencv-master/data/haarcascades/haarcascade_frontalface_default.xml')\n",
    "img = cv2.imread('Desktop/Humans.jpg')\n",
    "\n",
    "faces = har.detectMultiScale(img, 1.1, 4)\n",
    "for (x, y, w, h) in faces:\n",
    "    cv2.rectangle(img, (x, y), (x + w, y + h), (255, 0, 0), 2)\n",
    "    if cv2.waitKey(1)==27:\n",
    "            break\n",
    "print(len(faces))\n",
    "\n",
    "cv2.imshow('img', img)\n",
    "cv2.waitKey(0)\n",
    "cv2.destroyAllWindows()"
   ]
  }
 ],
 "metadata": {
  "kernelspec": {
   "display_name": "Python 3",
   "language": "python",
   "name": "python3"
  },
  "language_info": {
   "codemirror_mode": {
    "name": "ipython",
    "version": 3
   },
   "file_extension": ".py",
   "mimetype": "text/x-python",
   "name": "python",
   "nbconvert_exporter": "python",
   "pygments_lexer": "ipython3",
   "version": "3.7.1"
  }
 },
 "nbformat": 4,
 "nbformat_minor": 2
}
